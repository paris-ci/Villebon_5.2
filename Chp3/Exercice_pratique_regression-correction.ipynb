{
 "cells": [
  {
   "cell_type": "markdown",
   "metadata": {},
   "source": [
    "# Synthèse de ce qui a été vu jusqu'à présent\n",
    "\n",
    "\n",
    "\n",
    "On a pris en main python et les librairies scientifiques de bases.\n",
    "\n",
    "Accent particulier sur \n",
    "- NumPy : pour la manipulation simple et rapide des données \n",
    "- Matplotlib : pour la visualisation\n",
    "- Scikit Learn : Nous avons utilisé le module de régression linéaire\n",
    "\n",
    "Nous avons pris connaissance de quelques propriétés fondamentales de la distribution gaussienne (ou normale), qui joue un rôle important à cause du théorème central limit.\n",
    "\n",
    "Nous avons introduit le modèle de régression linéaire, en rappelant les hypothèses de bases :\n",
    "* les erreurs suivent une loi normale de moyenne nulle\n",
    "* la variance est la même pour tous (homoscédasticité) : la variance est la même pour l'ensemble des termes d'erreures gaussiens\n",
    "$Var(\\epsilon_i)=\\sigma$\n",
    "* les termes d'erreurs pour les différents $x_i$ sont indépendants les uns des autres\n",
    "\n",
    "et montrer comment calculer les coefficients optimaux qui expliquent au mieux les données\n",
    "\n",
    "Nous avons introduit le coefficient R2, qui est un outil de diagnostique de la régression.\n"
   ]
  },
  {
   "cell_type": "markdown",
   "metadata": {},
   "source": [
    "# Exemple pratique de régression linéaire"
   ]
  },
  {
   "cell_type": "code",
   "execution_count": 1,
   "metadata": {
    "collapsed": true
   },
   "outputs": [],
   "source": [
    "import numpy as np\n",
    "import matplotlib.pyplot as plt\n",
    "%matplotlib inline"
   ]
  },
  {
   "cell_type": "markdown",
   "metadata": {},
   "source": [
    "Trouvez comment lire un csv avec numpy, et ouvrez le fichier `x01.txt` dans le même répetoire que ce notebook.\n",
    "\n",
    "Notez qu'il faut ignorer les 33 premières lignes du fichier, qui sont des commentaires."
   ]
  },
  {
   "cell_type": "code",
   "execution_count": 2,
   "metadata": {
    "collapsed": false
   },
   "outputs": [],
   "source": [
    "data = np.loadtxt('x01.txt', skiprows=33)"
   ]
  },
  {
   "cell_type": "markdown",
   "metadata": {},
   "source": [
    "Représentez graphiquement les données avec `matplotlib`"
   ]
  },
  {
   "cell_type": "code",
   "execution_count": 3,
   "metadata": {
    "collapsed": false
   },
   "outputs": [
    {
     "data": {
      "image/png": "[encoded data removed]",
      "text/plain": [
       "<matplotlib.figure.Figure at 0x1dcc556fe80>"
      ]
     },
     "metadata": {},
     "output_type": "display_data"
    }
   ],
   "source": [
    "x, y = data[:,1], data[:,2]\n",
    "plt.scatter(x,y)\n",
    "plt.show()"
   ]
  },
  {
   "cell_type": "markdown",
   "metadata": {},
   "source": [
    "Utilisez `sklearn` pour faire le fit et calculer les coefficients de la régression"
   ]
  },
  {
   "cell_type": "markdown",
   "metadata": {},
   "source": [
    "Avec la librairie sklearn, il faut transformer le vecteur X en entrée, en passant d'une liste de nombres à une liste de feature vectors (liste de liste), même si il n'y a qu'un seul élément dans notre feature vector.\n",
    "\n",
    "```\n",
    "[[],\n",
    " [],\n",
    " [],\n",
    " ...\n",
    " []]\n",
    "```\n",
    "\n",
    "Il est en effet plutôt rare de n'avoir qu'un seul élément en entrée."
   ]
  },
  {
   "cell_type": "code",
   "execution_count": 4,
   "metadata": {
    "collapsed": false
   },
   "outputs": [
    {
     "name": "stdout",
     "output_type": "stream",
     "text": [
      "[  3.38500000e+00   4.80000000e-01   1.35000000e+00   4.65000000e+02\n",
      "   3.63300000e+01   2.76600000e+01   1.48300000e+01   1.04000000e+00\n",
      "   4.19000000e+00   4.25000000e-01   1.01000000e-01   9.20000000e-01\n",
      "   1.00000000e+00   5.00000000e-03   6.00000000e-02   3.50000000e+00\n",
      "   2.00000000e+00   1.70000000e+00   2.54700000e+03   2.30000000e-02\n",
      "   1.87100000e+02   5.21000000e+02   7.85000000e-01   1.00000000e+01\n",
      "   3.30000000e+00   2.00000000e-01   1.41000000e+00   5.29000000e+02\n",
      "   2.07000000e+02   8.50000000e+01   7.50000000e-01   6.20000000e+01\n",
      "   6.65400000e+03   3.50000000e+00   6.80000000e+00   3.50000000e+01\n",
      "   4.05000000e+00   1.20000000e-01   2.30000000e-02   1.00000000e-02\n",
      "   1.40000000e+00   2.50000000e+02   2.50000000e+00   5.55000000e+01\n",
      "   1.00000000e+02   5.21600000e+01   1.05500000e+01   5.50000000e-01\n",
      "   6.00000000e+01   3.60000000e+00   4.28800000e+00   2.80000000e-01\n",
      "   7.50000000e-02   1.22000000e-01   4.80000000e-02   1.92000000e+02\n",
      "   3.00000000e+00   1.60000000e+02   9.00000000e-01   1.62000000e+00\n",
      "   1.04000000e-01   4.23500000e+00]\n"
     ]
    }
   ],
   "source": [
    "print(x) #ceci est l'ancien x"
   ]
  },
  {
   "cell_type": "code",
   "execution_count": 5,
   "metadata": {
    "collapsed": true
   },
   "outputs": [],
   "source": [
    "from sklearn import linear_model\n",
    "x = x.reshape(-1,1)\n",
    "y = y.reshape(-1,1)"
   ]
  },
  {
   "cell_type": "code",
   "execution_count": 7,
   "metadata": {
    "collapsed": false
   },
   "outputs": [
    {
     "name": "stdout",
     "output_type": "stream",
     "text": [
      "[[  3.38500000e+00]\n",
      " [  4.80000000e-01]\n",
      " [  1.35000000e+00]\n",
      " [  4.65000000e+02]\n",
      " [  3.63300000e+01]\n",
      " [  2.76600000e+01]\n",
      " [  1.48300000e+01]\n",
      " [  1.04000000e+00]\n",
      " [  4.19000000e+00]\n",
      " [  4.25000000e-01]\n",
      " [  1.01000000e-01]\n",
      " [  9.20000000e-01]\n",
      " [  1.00000000e+00]\n",
      " [  5.00000000e-03]\n",
      " [  6.00000000e-02]\n",
      " [  3.50000000e+00]\n",
      " [  2.00000000e+00]\n",
      " [  1.70000000e+00]\n",
      " [  2.54700000e+03]\n",
      " [  2.30000000e-02]\n",
      " [  1.87100000e+02]\n",
      " [  5.21000000e+02]\n",
      " [  7.85000000e-01]\n",
      " [  1.00000000e+01]\n",
      " [  3.30000000e+00]\n",
      " [  2.00000000e-01]\n",
      " [  1.41000000e+00]\n",
      " [  5.29000000e+02]\n",
      " [  2.07000000e+02]\n",
      " [  8.50000000e+01]\n",
      " [  7.50000000e-01]\n",
      " [  6.20000000e+01]\n",
      " [  6.65400000e+03]\n",
      " [  3.50000000e+00]\n",
      " [  6.80000000e+00]\n",
      " [  3.50000000e+01]\n",
      " [  4.05000000e+00]\n",
      " [  1.20000000e-01]\n",
      " [  2.30000000e-02]\n",
      " [  1.00000000e-02]\n",
      " [  1.40000000e+00]\n",
      " [  2.50000000e+02]\n",
      " [  2.50000000e+00]\n",
      " [  5.55000000e+01]\n",
      " [  1.00000000e+02]\n",
      " [  5.21600000e+01]\n",
      " [  1.05500000e+01]\n",
      " [  5.50000000e-01]\n",
      " [  6.00000000e+01]\n",
      " [  3.60000000e+00]\n",
      " [  4.28800000e+00]\n",
      " [  2.80000000e-01]\n",
      " [  7.50000000e-02]\n",
      " [  1.22000000e-01]\n",
      " [  4.80000000e-02]\n",
      " [  1.92000000e+02]\n",
      " [  3.00000000e+00]\n",
      " [  1.60000000e+02]\n",
      " [  9.00000000e-01]\n",
      " [  1.62000000e+00]\n",
      " [  1.04000000e-01]\n",
      " [  4.23500000e+00]]\n"
     ]
    }
   ],
   "source": [
    "print(x) #ceci est le nouveau x, notez la différence avec ci-dessus"
   ]
  },
  {
   "cell_type": "markdown",
   "metadata": {},
   "source": [
    "`scikit-learn` dispose de plusieurs modules, dont un dédié à la régression linéaire. On y trouve différents modèles, mais  nous allons utiliser la version la plus simple, qui correspond à ce que nous avons vu en cours.\n",
    "\n",
    "Le modèle est mis à disposition à travers une classe `LinearRegression`, que nous allons instancier et entraîner sur nos données."
   ]
  },
  {
   "cell_type": "code",
   "execution_count": 9,
   "metadata": {
    "collapsed": false
   },
   "outputs": [
    {
     "data": {
      "text/plain": [
       "(array([[ 0.96649637]]), array([ 91.00439621]))"
      ]
     },
     "execution_count": 9,
     "metadata": {},
     "output_type": "execute_result"
    }
   ],
   "source": [
    "regr = linear_model.LinearRegression() #instanciation du modèle\n",
    "regr.fit(x,y)\n",
    "regr.coef_, regr.intercept_ #pente et ordonnée à l'origine"
   ]
  },
  {
   "cell_type": "markdown",
   "metadata": {},
   "source": [
    "Calculez le coefficient $R^2$"
   ]
  },
  {
   "cell_type": "markdown",
   "metadata": {},
   "source": [
    "On peut utiliser directement la méthode de la classe, qui prend x et y en entrée et calcule le y_predicted à partir du fit fait précédemment."
   ]
  },
  {
   "cell_type": "code",
   "execution_count": 13,
   "metadata": {
    "collapsed": false
   },
   "outputs": [
    {
     "data": {
      "text/plain": [
       "0.87266208430433312"
      ]
     },
     "execution_count": 13,
     "metadata": {},
     "output_type": "execute_result"
    }
   ],
   "source": [
    "regr.score(x, y)"
   ]
  },
  {
   "cell_type": "markdown",
   "metadata": {},
   "source": [
    "Le coefficient $R^2$ est également implémenté dans le sous-module `metrics`, et prend en argument directement y et y_predicted."
   ]
  },
  {
   "cell_type": "code",
   "execution_count": 14,
   "metadata": {
    "collapsed": false
   },
   "outputs": [
    {
     "data": {
      "text/plain": [
       "0.87266208430433312"
      ]
     },
     "execution_count": 14,
     "metadata": {},
     "output_type": "execute_result"
    }
   ],
   "source": [
    "from sklearn.metrics import r2_score\n",
    "r2_score(y, regr.predict(x))"
   ]
  },
  {
   "cell_type": "markdown",
   "metadata": {},
   "source": [
    "Représentez la droite correspondant à la régression superposée aux  données"
   ]
  },
  {
   "cell_type": "code",
   "execution_count": 15,
   "metadata": {
    "collapsed": false
   },
   "outputs": [
    {
     "data": {
      "image/png": "[encoded data removed]",
      "text/plain": [
       "<matplotlib.figure.Figure at 0x198c494b9e8>"
      ]
     },
     "metadata": {},
     "output_type": "display_data"
    }
   ],
   "source": [
    "plt.scatter(x, y)\n",
    "plt.plot(x, regr.predict(x))\n",
    "plt.show()"
   ]
  },
  {
   "cell_type": "markdown",
   "metadata": {},
   "source": [
    "Ce modèle semble fonctionner ($R^2$ proche de 1), mais est-ce le meilleur modèle possible ? \n",
    "\n",
    "Un bon réflexe pour diagnostiquer une régression linéaire consiste à regarder les résidus. Ils sont sensé correspondre à des erreurs gaussiennes.\n",
    "\n",
    "Calculez les résidus et représenter la distribution."
   ]
  },
  {
   "cell_type": "code",
   "execution_count": 10,
   "metadata": {
    "collapsed": false
   },
   "outputs": [
    {
     "data": {
      "image/png": "[encoded data removed]",
      "text/plain": [
       "<matplotlib.figure.Figure at 0x1dcd66a7d68>"
      ]
     },
     "metadata": {},
     "output_type": "display_data"
    },
    {
     "data": {
      "image/png": "[encoded data removed]",
      "text/plain": [
       "<matplotlib.figure.Figure at 0x1dcc5516c88>"
      ]
     },
     "metadata": {},
     "output_type": "display_data"
    }
   ],
   "source": [
    "residuals = y - regr.predict(x)\n",
    "plt.scatter(x, residuals)\n",
    "plt.figure()\n",
    "plt.hist(y - regr.predict(x), bins=50)\n",
    "plt.show()"
   ]
  },
  {
   "cell_type": "markdown",
   "metadata": {},
   "source": [
    "Le diagnostique des résidus n'est pas très concluant, puisqu'on ne retrouve pas les hypothèses de la régression linéaire. On ne voit pas une distribution normale symétrique et de variance fixe."
   ]
  },
  {
   "cell_type": "markdown",
   "metadata": {},
   "source": [
    "On va refaire l'exercice en transformant les variables avec une fonction logarithme. Pourquoi selon vous ?"
   ]
  },
  {
   "cell_type": "code",
   "execution_count": 11,
   "metadata": {
    "collapsed": true
   },
   "outputs": [],
   "source": [
    "x_log = np.log(x)\n",
    "y_log = np.log(y)"
   ]
  },
  {
   "cell_type": "markdown",
   "metadata": {},
   "source": [
    "Refaites l'exercice de la régression linéaire"
   ]
  },
  {
   "cell_type": "code",
   "execution_count": 12,
   "metadata": {
    "collapsed": false
   },
   "outputs": [
    {
     "data": {
      "text/plain": [
       "(array([[ 0.75168594]]), array([ 2.13478868]))"
      ]
     },
     "execution_count": 12,
     "metadata": {},
     "output_type": "execute_result"
    }
   ],
   "source": [
    "regr_log = linear_model.LinearRegression()\n",
    "regr_log.fit(x_log, y_log)\n",
    "regr_log.coef_, regr_log.intercept_"
   ]
  },
  {
   "cell_type": "markdown",
   "metadata": {},
   "source": [
    "Que vaut le nouveau $R^2$ ?"
   ]
  },
  {
   "cell_type": "code",
   "execution_count": 15,
   "metadata": {
    "collapsed": false
   },
   "outputs": [
    {
     "name": "stdout",
     "output_type": "stream",
     "text": [
      "0.920783716903\n",
      "0.920783716903\n"
     ]
    }
   ],
   "source": [
    "print(regr_log.score(x_log, y_log))\n",
    "print(r2_score(y_log, regr_log.predict(x_log)))"
   ]
  },
  {
   "cell_type": "markdown",
   "metadata": {},
   "source": [
    "Regardons la représentation graphique des données et de la régression"
   ]
  },
  {
   "cell_type": "code",
   "execution_count": 16,
   "metadata": {
    "collapsed": false
   },
   "outputs": [
    {
     "data": {
      "image/png": "[encoded data removed]",
      "text/plain": [
       "<matplotlib.figure.Figure at 0x1dcd67a4c50>"
      ]
     },
     "metadata": {},
     "output_type": "display_data"
    }
   ],
   "source": [
    "plt.scatter(x_log, y_log)\n",
    "plt.plot(x_log, regr_log.predict(x_log))\n",
    "plt.show()"
   ]
  },
  {
   "cell_type": "markdown",
   "metadata": {},
   "source": [
    "On peut déjà constater à l'oeil que les données et la droite correspondent mieux que sur le premier graphe. Le logarithme a permis de \"tasser\" les valeurs extrêmes, pour avoir une régression qui correspond mieux à l'ensemble des données.\n",
    "\n",
    "Le problème initial vient du fait que la régression n'est pas robuste face aux outliers (valeurs extrêmes / aberrantes). "
   ]
  },
  {
   "cell_type": "markdown",
   "metadata": {},
   "source": [
    "Regardons les résidus pour le nouveau modèle"
   ]
  },
  {
   "cell_type": "code",
   "execution_count": 19,
   "metadata": {
    "collapsed": false
   },
   "outputs": [
    {
     "data": {
      "image/png": "[encoded data removed]",
      "text/plain": [
       "<matplotlib.figure.Figure at 0x1dcd66f42b0>"
      ]
     },
     "metadata": {},
     "output_type": "display_data"
    },
    {
     "data": {
      "image/png": "[encoded data removed]",
      "text/plain": [
       "<matplotlib.figure.Figure at 0x1dcd6788a20>"
      ]
     },
     "metadata": {},
     "output_type": "display_data"
    }
   ],
   "source": [
    "plt.scatter(x_log, y_log-regr_log.predict(x_log))\n",
    "plt.figure()\n",
    "plt.hist(y_log-regr_log.predict(x_log), bins=25)\n",
    "plt.show()"
   ]
  },
  {
   "cell_type": "markdown",
   "metadata": {},
   "source": [
    "L'histogrammme, même s'il n'est pas parfait, commence à ressembler un peu plus à une distribution symétrique étendue autour de 0. Notez qu'il existe des méthodes pour tester si une distribution de points suit une loi normale."
   ]
  }
 ],
 "metadata": {
  "kernelspec": {
   "display_name": "Python 3",
   "language": "python",
   "name": "python3"
  },
  "language_info": {
   "codemirror_mode": {
    "name": "ipython",
    "version": 3
   },
   "file_extension": ".py",
   "mimetype": "text/x-python",
   "name": "python",
   "nbconvert_exporter": "python",
   "pygments_lexer": "ipython3",
   "version": "3.6.0"
  }
 },
 "nbformat": 4,
 "nbformat_minor": 0
}
